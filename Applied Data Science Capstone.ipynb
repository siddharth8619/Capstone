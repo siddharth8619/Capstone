{
    "cells": [
        {
            "cell_type": "markdown",
            "metadata": {
                "collapsed": true
            },
            "source": "# Description of the Problem and Discussion of the Background\n\n### Deciding where to open a new venue in London (outside Inner City Limits)\n\nLondon is a great city. It is diverse, multicultural and full of opportunities. But there is also another side to its popularity and appeal. London is an expensive place to live and thrive. Many businesses want to open a venue here and many pay top price to have their window on Piccadilly or Oxford Street. But what about those, who want to start their own business and cannot really afford to open in the City yet? Where is it best to open a new place? Where will it be cheapest and will have enough people living around to be popular? Where the competition is not too overwhelming?\n\nAll these questions and more will be answered below. The whole process will be carried out via the below plan:\n\n<font color=deepskyblue> Obtain the Data </font>\n1.a. Name of the London Boroughs, area and population from web scrapping\n\n1.b. Filter the boroughs to get the best candidates for the analysis.\n\n1.c. Use Foresquare Data to obtain info about most popular venues.\n\n<font color=deepskyblue> Data Visualization and Some Simple Statistical Analysis. </font>\n<font color=deepskyblue> Analysis Using Clustering, Specially K-Means Clustering. </font>\n3.a. Maximize the number of clusters.\n\n3.b. Visualization using Chloropleth Map\n\n<font color=deepskyblue> Compare the Neighborhoods to Find the Best Place for Starting up a Venue. </font> <font color=deepskyblue> Inference From these Results and related Conclusions. </font>\n<font color=orangered>Target Audience</font>\n\nFirst time enterpreneurs, who want to start their first business. Below dataset will give a comprehensive insight into where best to open a new venue, to maximise the value for money.\n\nPeople who already run a business and want to branch out. Given the extra information, it may provide valuable information before decision making.\n\nInitial Data Preparation (Week 1) \n\n2.1. Get The Names of Boroughs, Areas, Population, Coordinates from Wikipedia \n\n2.2. Processing the Information \n\nFrom Wiki To Make Necessary Lists 2.3. Check and Compare with Google Search and Refine if Necessary\n\nFirst, we get the nessessary information on London Boroughs, dropping the extras, that will not be needed for the analysis.\n"
        },
        {
            "cell_type": "code",
            "execution_count": null,
            "metadata": {},
            "outputs": [],
            "source": ""
        }
    ],
    "metadata": {
        "kernelspec": {
            "display_name": "Python 3.6",
            "language": "python",
            "name": "python3"
        },
        "language_info": {
            "codemirror_mode": {
                "name": "ipython",
                "version": 3
            },
            "file_extension": ".py",
            "mimetype": "text/x-python",
            "name": "python",
            "nbconvert_exporter": "python",
            "pygments_lexer": "ipython3",
            "version": "3.6.9"
        }
    },
    "nbformat": 4,
    "nbformat_minor": 1
}